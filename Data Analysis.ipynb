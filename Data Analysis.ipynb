{
 "cells": [
  {
   "cell_type": "code",
   "execution_count": null,
   "metadata": {},
   "outputs": [],
   "source": [
    "import json\n",
    "import numpy as np\n",
    "from __future__ import print_function\n",
    "\n",
    "# Settings\n",
    "TRAINING_SIZE = 0.7 #proportion of dataset to train on"
   ]
  },
  {
   "cell_type": "markdown",
   "metadata": {},
   "source": [
    "# Load & Filter"
   ]
  },
  {
   "cell_type": "code",
   "execution_count": null,
   "metadata": {},
   "outputs": [],
   "source": [
    "with open('MIMIC3_processed.json') as data_file:    \n",
    "    mimic = json.load(data_file)\n",
    "    \n",
    "print(\"Loaded\", len(mimic.keys()),\"user records\")"
   ]
  },
  {
   "cell_type": "code",
   "execution_count": null,
   "metadata": {},
   "outputs": [],
   "source": [
    "patient = mimic[np.random.choice(mimic.keys())]\n",
    "\n",
    "import math\n",
    "\n",
    "MAP = []\n",
    "PP = []\n",
    "for patient in mimic.itervalues():\n",
    "    for value in patient['measurements']['MAP']:\n",
    "        if not math.isnan(value):\n",
    "            MAP.append(value)\n",
    "    for value in patient['measurements']['PP']:\n",
    "        if not math.isnan(value):\n",
    "            PP.append(value)\n",
    "    \n",
    "print(sum(MAP)/float(len(MAP)))\n",
    "print(sum(PP)/float(len(PP)))\n",
    "\n"
   ]
  },
  {
   "cell_type": "code",
   "execution_count": null,
   "metadata": {},
   "outputs": [],
   "source": [
    "ages = []\n",
    "for patient in mimic.itervalues():\n",
    "    ages.append(patient['age'])\n",
    "\n",
    "print(0 in ages)\n",
    "    \n",
    "import matplotlib.pyplot as plt\n",
    "n, bins, patches = plt.hist(ages, 50, facecolor='green', alpha=0.75)\n",
    "plt.show()"
   ]
  },
  {
   "cell_type": "code",
   "execution_count": null,
   "metadata": {},
   "outputs": [],
   "source": [
    "# Filter those who came in with sepsis\n",
    "mimic_nsoa = {k: v for k, v in mimic.iteritems() if v['column_onset'] != 0}\n",
    "#nsoe = No Sepsis On Admittance\n",
    "\n",
    "training_keys = np.random.choice(mimic_nsoa.keys(), int(TRAINING_SIZE*len(mimic_nsoa.keys())), False)\n",
    "\n",
    "training = {}\n",
    "training['all'] = {k: mimic_nsoa[k] for k in training_keys}\n",
    "training['contracted'] = {k: v for k, v in training['all'].iteritems() if v['label_sepsis']}\n",
    "\n",
    "print(\"Training on\", len(training['all']), \"records,\")\n",
    "print(len(training['contracted']),\"of which contract sepsis during their visit.\",\n",
    "      \"(\"+'{:.2f}'.format(100*float(len(training['contracted']))/len(training['all']))+\"%)\")"
   ]
  },
  {
   "cell_type": "code",
   "execution_count": null,
   "metadata": {},
   "outputs": [],
   "source": [
    "have_sepsis = {k: v for k, v in mimic.iteritems() if v['label_sepsis'] > 0}"
   ]
  },
  {
   "cell_type": "code",
   "execution_count": null,
   "metadata": {},
   "outputs": [],
   "source": [
    "len(list(have_sepsis))"
   ]
  },
  {
   "cell_type": "code",
   "execution_count": null,
   "metadata": {},
   "outputs": [],
   "source": [
    "have_sepsis[have_sepsis.keys()[3]]['measurements']"
   ]
  },
  {
   "cell_type": "markdown",
   "metadata": {},
   "source": [
    "### sepsis_times = [v['column_onset'] for k, v in have_sepsis.iteritems()]"
   ]
  },
  {
   "cell_type": "code",
   "execution_count": null,
   "metadata": {},
   "outputs": [],
   "source": [
    "import matplotlib.pyplot as plt\n",
    "n, bins, patches = plt.hist(sepsis_times, 200, facecolor='green', alpha=0.75)\n",
    "plt.show()"
   ]
  },
  {
   "cell_type": "code",
   "execution_count": null,
   "metadata": {},
   "outputs": [],
   "source": [
    "sepsis_times.count(0)"
   ]
  },
  {
   "cell_type": "code",
   "execution_count": null,
   "metadata": {},
   "outputs": [],
   "source": []
  }
 ],
 "metadata": {
  "kernelspec": {
   "display_name": "Python 2",
   "language": "python",
   "name": "python2"
  },
  "language_info": {
   "codemirror_mode": {
    "name": "ipython",
    "version": 2
   },
   "file_extension": ".py",
   "mimetype": "text/x-python",
   "name": "python",
   "nbconvert_exporter": "python",
   "pygments_lexer": "ipython2"
  }
 },
 "nbformat": 4,
 "nbformat_minor": 2
}
