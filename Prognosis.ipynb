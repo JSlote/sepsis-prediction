{
 "cells": [
  {
   "cell_type": "markdown",
   "metadata": {},
   "source": [
    "# Imports"
   ]
  },
  {
   "cell_type": "code",
   "execution_count": null,
   "metadata": {},
   "outputs": [],
   "source": [
    "# For python 2 & 3 compatibility:\n",
    "# Import future builtins\n",
    "from builtins import (ascii, bytes, chr, dict, filter, hex, input,\n",
    "                      int, map, next, oct, open, pow, range, round,\n",
    "                      str, super, zip)\n",
    "from __future__ import print_function\n",
    "# Disallow removed builtins like xrange\n",
    "from future.builtins.disabled import *\n",
    "\n",
    "import json\n",
    "import math\n",
    "import numpy as np\n",
    "from utils import log_progress as log\n",
    "from mimic_loader import mimic_nsoa, common_measurements\n",
    "\n",
    "LOOKBACK_WINDOW = 5   # number of hours to use to predict next window\n",
    "TRAINING_SIZE   = 0.7 # proportion of dataset to train on"
   ]
  },
  {
   "cell_type": "markdown",
   "metadata": {},
   "source": [
    "## Split Data by Visits"
   ]
  },
  {
   "cell_type": "code",
   "execution_count": null,
   "metadata": {},
   "outputs": [],
   "source": [
    "training_keys = np.random.choice(mimic_nsoa.keys(), int(TRAINING_SIZE*len(mimic_nsoa.keys())), False)\n",
    "testing_keys = list(set(mimic_nsoa.keys()).difference(training_keys))\n",
    "\n",
    "training_dict = {k: mimic_nsoa[k] for k in training_keys}\n",
    "testing_dict = {k: mimic_nsoa[k] for k in testing_keys}\n",
    "\n",
    "print(\"Training on\", len(training_dict), \"visits\")"
   ]
  },
  {
   "cell_type": "markdown",
   "metadata": {},
   "source": [
    "## Unwind Data into Per-Hour and Scale"
   ]
  },
  {
   "cell_type": "code",
   "execution_count": null,
   "metadata": {},
   "outputs": [],
   "source": [
    "def unwind(patient_dict, mmts):\n",
    "    # int to id\n",
    "    patient_id_lookup = sorted(patient_dict.keys())\n",
    "    # id to int, to speed up the following loop\n",
    "    patient_int_lookup = {id: n for n, id in enumerate(patient_id_lookup)}\n",
    "    \n",
    "    timeseries_table = []\n",
    "    for patient, data in log(patient_dict.iteritems(), 100, size=len(patient_dict)):\n",
    "        for i in range(len(data['measurements'][data['measurements'].keys()[0]])):\n",
    "            timeseries_table.append(\n",
    "                [patient_int_lookup[patient]]+[data['measurements'][mmt][i] for mmt in mmts])\n",
    "            \n",
    "    timeseries_table = np.asarray(timeseries_table)\n",
    "    \n",
    "    return timeseries_table, patient_id_lookup"
   ]
  },
  {
   "cell_type": "code",
   "execution_count": null,
   "metadata": {},
   "outputs": [],
   "source": [
    "hourly_training, training_patient_id_lookup = unwind(training_dict, common_measurements)\n",
    "hourly_testing,  testing_patient_id_lookup  = unwind(testing_dict,  common_measurements)"
   ]
  },
  {
   "cell_type": "code",
   "execution_count": null,
   "metadata": {},
   "outputs": [],
   "source": [
    "from sklearn import preprocessing\n",
    "\n",
    "#fit scaler on data columns\n",
    "scaler = preprocessing.StandardScaler().fit(hourly_training[:,1:])\n",
    "scaled_hourly_training = np.concatenate((hourly_training[:,:1],scaler.transform(hourly_training[:,1:])), axis=1)\n",
    "scaled_hourly_testing  = np.concatenate((hourly_testing[:,:1], scaler.transform(hourly_testing[:,1:])),  axis=1)"
   ]
  },
  {
   "cell_type": "markdown",
   "metadata": {},
   "source": [
    "## Fold back into time-series, map to time window"
   ]
  },
  {
   "cell_type": "code",
   "execution_count": null,
   "metadata": {},
   "outputs": [],
   "source": [
    "def fold(hourly_data, id_lookup):\n",
    "    return {id_lookup[i]: hourly_data[hourly_data[:,0] == i][:,1:] for i in range(len(id_lookup))}"
   ]
  },
  {
   "cell_type": "code",
   "execution_count": null,
   "metadata": {},
   "outputs": [],
   "source": [
    "folded_training = fold(hourly_training, training_patient_id_lookup)\n",
    "folded_testing  = fold(hourly_testing,  testing_patient_id_lookup)"
   ]
  },
  {
   "cell_type": "code",
   "execution_count": null,
   "metadata": {},
   "outputs": [],
   "source": [
    "def to_data(folded_data):\n",
    "    input_data = []\n",
    "    output_data = []\n",
    "    for patient, series in folded_data.iteritems():\n",
    "        if len(series) < LOOKBACK_WINDOW + 1:\n",
    "            #this visit is too short\n",
    "            continue\n",
    "        for i in range(len(series) - LOOKBACK_WINDOW):\n",
    "            window = series[i:i+LOOKBACK_WINDOW]\n",
    "            row = [mimic_nsoa[patient]['gender'],\n",
    "                   mimic_nsoa[patient]['weight'],\n",
    "                   mimic_nsoa[patient]['age']]\n",
    "            row.extend([item for sublist in window for item in sublist])\n",
    "            input_data.append(row)    \n",
    "            output_data.append(series[i+LOOKBACK_WINDOW])\n",
    "            \n",
    "    return input_data, output_data"
   ]
  },
  {
   "cell_type": "code",
   "execution_count": null,
   "metadata": {},
   "outputs": [],
   "source": [
    "training = to_data(folded_training)\n",
    "testing = to_data(folded_testing)"
   ]
  },
  {
   "cell_type": "markdown",
   "metadata": {},
   "source": [
    "# #Train"
   ]
  },
  {
   "cell_type": "code",
   "execution_count": null,
   "metadata": {},
   "outputs": [],
   "source": [
    "from sklearn.neural_network import MLPRegressor\n",
    "clf = MLPRegressor(hidden_layer_sizes=(200,100), early_stopping = True)"
   ]
  },
  {
   "cell_type": "code",
   "execution_count": null,
   "metadata": {},
   "outputs": [],
   "source": [
    "clf.fit(training[0],training[1])"
   ]
  },
  {
   "cell_type": "code",
   "execution_count": null,
   "metadata": {},
   "outputs": [],
   "source": [
    "clf.score(testing[0],testing[1])"
   ]
  },
  {
   "cell_type": "code",
   "execution_count": null,
   "metadata": {},
   "outputs": [],
   "source": [
    "clf.predict([testing[0][0]])"
   ]
  },
  {
   "cell_type": "code",
   "execution_count": null,
   "metadata": {},
   "outputs": [],
   "source": [
    "testing[0][7000]"
   ]
  },
  {
   "cell_type": "code",
   "execution_count": null,
   "metadata": {},
   "outputs": [],
   "source": []
  }
 ],
 "metadata": {
  "kernelspec": {
   "display_name": "Python 2",
   "language": "python",
   "name": "python2"
  },
  "language_info": {
   "codemirror_mode": {
    "name": "ipython",
    "version": 2
   },
   "file_extension": ".py",
   "mimetype": "text/x-python",
   "name": "python",
   "nbconvert_exporter": "python",
   "pygments_lexer": "ipython2"
  }
 },
 "nbformat": 4,
 "nbformat_minor": 2
}
