{
 "cells": [
  {
   "cell_type": "markdown",
   "metadata": {},
   "source": [
    "# Sepsis Prediction\n",
    "\n",
    "### Training Notes\n",
    "\n",
    "Imputation\n",
    "- Imputed training data with a nice monotonic piecewise polynomial (PCHIP)\n",
    "- If weight was missing, used average UK weights\n",
    "\n",
    "Data Splitting\n",
    "- Split on per-patient basis to avoid correlations\n",
    "\n",
    "Picking Data\n",
    "- Avoided an hour before sepsis is recorded because a patient could have contracted it prior to detection\n",
    "\n",
    "Standardization\n",
    "- Mean 0, SD 1"
   ]
  },
  {
   "cell_type": "code",
   "execution_count": null,
   "metadata": {},
   "outputs": [],
   "source": [
    "# For python 2 & 3 compatibility:\n",
    "# Import future builtins\n",
    "from builtins import (ascii, bytes, chr, dict, filter, hex, input,\n",
    "                      int, map, next, oct, open, pow, range, round,\n",
    "                      str, super, zip)\n",
    "from __future__ import print_function\n",
    "# Disallow removed builtins like xrange\n",
    "#from future.builtins.disabled import *\n",
    "from tqdm import tqdm\n",
    "\n",
    "import numpy as np\n",
    "import score as sc\n",
    "\n",
    "# Settings\n",
    "TRAINING_SIZE     = 0.7 # proportion of dataset to train on"
   ]
  },
  {
   "cell_type": "code",
   "execution_count": null,
   "metadata": {},
   "outputs": [],
   "source": [
    "def perc(num):\n",
    "    return '{:.2f}'.format(100*num)+\"%\""
   ]
  },
  {
   "cell_type": "code",
   "execution_count": null,
   "metadata": {},
   "outputs": [],
   "source": [
    "def build_score_table(trigger_alert, patient_data, window):\n",
    "    patient_table = []\n",
    "    septic = []\n",
    "    window_size = window[1]-window[0]+1\n",
    "    \n",
    "    for patient in tqdm(patient_data.itervalues(), total = len(patient_data)):\n",
    "        #a buffer to prevent alarms from being fired at an undesired rate\n",
    "        alarm_deque = deque(window_size*[False], window_size)\n",
    "        \n",
    "        patient_alarms = []\n",
    "        \n",
    "        # if the patient does not contract sepsis, test on all times\n",
    "        if math.isnan(patient['column_onset']):\n",
    "            score_length = patient['measurements'].shape[0]\n",
    "            septic.append(0)\n",
    "        else:\n",
    "            score_length = patient['column_onset']+1 # +1 b/c we're including the onset time in prediction\n",
    "            septic.append(1)\n",
    "                        \n",
    "        for i in range(score_length):\n",
    "            patient_prefix = deepcopy(patient)\n",
    "            #no cheating!\n",
    "            del patient_prefix['column_onset']\n",
    "            patient_prefix['measurements'] = patient['measurements'][:i+1,:]\n",
    "\n",
    "            if trigger_alert(patient_prefix) and True not in alarm_deque:\n",
    "                alarm_deque.append(True)\n",
    "                patient_alarms.append(1)\n",
    "            else:\n",
    "                alarm_deque.append(False)\n",
    "                patient_alarms.append(0)\n",
    "        \n",
    "        patient_table.append(patient_alarms)\n",
    "    \n",
    "    return patient_table, septic\n",
    "\n"
   ]
  },
  {
   "cell_type": "markdown",
   "metadata": {},
   "source": [
    "# Load\n",
    "This section processes and imputes the original dataset."
   ]
  },
  {
   "cell_type": "code",
   "execution_count": null,
   "metadata": {},
   "outputs": [],
   "source": [
    "from mimic_loader import mimic_interpolated, mimic_carryforward"
   ]
  },
  {
   "cell_type": "code",
   "execution_count": null,
   "metadata": {},
   "outputs": [],
   "source": [
    "from sepsis_predictor import sepsis_predictor"
   ]
  },
  {
   "cell_type": "markdown",
   "metadata": {},
   "source": [
    "# Test"
   ]
  },
  {
   "cell_type": "code",
   "execution_count": null,
   "metadata": {},
   "outputs": [],
   "source": [
    "#Split data\n",
    "training_keys = np.random.choice(mimic_interpolated.keys(), int(TRAINING_SIZE*len(mimic_interpolated.keys())), False)\n",
    "testing_keys = list(set(mimic_interpolated.keys()).difference(training_keys))\n",
    "\n",
    "#Use carryforward imputation for testing\n",
    "training_patients = {k: mimic_interpolated[k] for k in training_keys}\n",
    "testing_patients =  {k: mimic_carryforward[k] for k in testing_keys}\n",
    "\n",
    "#Train\n",
    "print(\"Training...\")\n",
    "predictor = sepsis_predictor(lookback = 5, predict_ahead = 1)\n",
    "predictor.train(training_patients, percent_septic = .5, sepsis_length = 1, pre_sepsis_ignore = 0)\n",
    "print(\"done.\")"
   ]
  },
  {
   "cell_type": "code",
   "execution_count": null,
   "metadata": {},
   "outputs": [],
   "source": [
    "def trigger_alert(patient):\n",
    "    return predictor.predict(patient)\n",
    "\n",
    "print(\"Testing...\")\n",
    "alarm_table, septic = build_score_table(trigger_alert, testing_patients, [-5,-1])\n",
    "print(sc.score(alarm_table, septic, [-5,-1]))"
   ]
  },
  {
   "cell_type": "markdown",
   "metadata": {},
   "source": [
    "Balanced at 0.001%:\n",
    "```\n",
    "Sensitivity: 27.66%\n",
    "        PPV: 91.50%\n",
    "raw:\n",
    "[226, 817, 226, 247]\n",
    "```\n",
    "\n",
    "Balanced at 0.05%:\n",
    "```\n",
    "Sensitivity: 32.56%\n",
    "        PPV: 60.04%\n",
    "raw:\n",
    "[293, 900, 293, 488]```\n",
    "\n",
    "Balanced at 0.01%:\n",
    "```\n",
    "Sensitivity: 39.14%\n",
    "        PPV: 35.82%\n",
    "raw:\n",
    "[326, 833, 326, 910]```\n",
    "\n",
    "Balanced at 0.5%:\n",
    "```\n",
    "Sensitivity: 73.65%\n",
    "        PPV: 8.56%\n",
    "raw:\n",
    "[640, 869, 640, 7478]```"
   ]
  },
  {
   "cell_type": "markdown",
   "metadata": {},
   "source": [
    "Ideal Scores:\n",
    "\n",
    "<     PPV     < \n",
    "< Sensitivity <"
   ]
  },
  {
   "cell_type": "code",
   "execution_count": null,
   "metadata": {},
   "outputs": [],
   "source": [
    "alarm_and_septic = 0\n",
    "\n",
    "for i, patient in enumerate(alarm_table):\n",
    "    if sum(patient) >0 and septic[i]:\n",
    "        print(patient)\n",
    "        alarm_and_septic += 1\n",
    "        \n",
    "print(alarm_and_septic)"
   ]
  },
  {
   "cell_type": "code",
   "execution_count": null,
   "metadata": {},
   "outputs": [],
   "source": []
  }
 ],
 "metadata": {
  "kernelspec": {
   "display_name": "Python 2",
   "language": "python",
   "name": "python2"
  },
  "language_info": {
   "codemirror_mode": {
    "name": "ipython",
    "version": 2
   },
   "file_extension": ".py",
   "mimetype": "text/x-python",
   "name": "python",
   "nbconvert_exporter": "python",
   "pygments_lexer": "ipython2"
  }
 },
 "nbformat": 4,
 "nbformat_minor": 2
}
