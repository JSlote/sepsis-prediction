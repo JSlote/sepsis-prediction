{
 "cells": [
  {
   "cell_type": "markdown",
   "metadata": {},
   "source": [
    "# Sepsis Prediction\n",
    "\n",
    "### Training Notes\n",
    "\n",
    "Imputation\n",
    "- Imputed training data with a nice monotonic piecewise polynomial (PCHIP)\n",
    "- If weight was missing, used average UK weights\n",
    "\n",
    "Data Splitting\n",
    "- Split on per-patient basis to avoid correlations\n",
    "\n",
    "Picking Data\n",
    "- Avoided an hour before sepsis is recorded because a patient could have contracted it prior to detection\n",
    "\n",
    "Standardization\n",
    "- Mean 0, SD 1"
   ]
  },
  {
   "cell_type": "code",
   "execution_count": null,
   "metadata": {},
   "outputs": [],
   "source": [
    "# For python 2 & 3 compatibility:\n",
    "# Import future builtins\n",
    "from builtins import (ascii, bytes, chr, dict, filter, hex, input,\n",
    "                      int, map, next, oct, open, pow, range, round,\n",
    "                      str, super, zip)\n",
    "from __future__ import print_function\n",
    "# Disallow removed builtins like xrange\n",
    "#from future.builtins.disabled import *\n",
    "from tqdm import tqdm\n",
    "\n",
    "import numpy as np\n",
    "\n",
    "# Settings\n",
    "TRAINING_SIZE     = 0.7 # proportion of dataset to train on"
   ]
  },
  {
   "cell_type": "code",
   "execution_count": null,
   "metadata": {},
   "outputs": [],
   "source": [
    "def perc(num):\n",
    "    return '{:.2f}'.format(100*num)+\"%\""
   ]
  },
  {
   "cell_type": "code",
   "execution_count": null,
   "metadata": {},
   "outputs": [],
   "source": [
    "# assumes data structure\n",
    "# {'patient id': {'info1': 1234, ..., 'measurements': numpyarray[time x measurement]}}\n",
    "# and that trigger_alert is a binary function\n",
    "\n",
    "from copy import deepcopy\n",
    "import math\n",
    "from collections import deque\n",
    "\n",
    "def score(trigger_alert, patient_data, k):\n",
    "    \"\"\"inputs detection window k, an alarm function to test, and patient data with\n",
    "    rows time and columns measurements. Note that the detection window is inclusive.\"\"\"\n",
    "    assert k >= 1\n",
    "    num_septic          = 0\n",
    "    num_detected_septic = 0\n",
    "    num_alerts          = 0\n",
    "    num_positive_alerts = 0\n",
    "    \n",
    "    \n",
    "    \n",
    "    for patient in tqdm(patient_data.itervalues(), total = len(patient_data)):\n",
    "        alarm_deque = deque(3*[False], 3)\n",
    "        \n",
    "        # if the patient does not contract sepsis, test on all times\n",
    "        if math.isnan(patient['column_onset']):\n",
    "            for i in range(patient['measurements'].shape[0]):\n",
    "                patient_prefix = deepcopy(patient)\n",
    "                #no cheating!\n",
    "                del patient_prefix['column_onset']\n",
    "                patient_prefix['measurements'] = patient['measurements'][:i+1,:]\n",
    "                \n",
    "                if trigger_alert(patient_prefix, k) and True not in alarm_deque:\n",
    "                    alarm_deque.append(True)\n",
    "                    num_alerts += 1\n",
    "                else:\n",
    "                    alarm_deque.append(False)\n",
    "                    \n",
    "        else: #the patient is septic; test up through diagnosis\n",
    "            sepsis_detected = False\n",
    "            \n",
    "            for i in range(patient['column_onset']+1):# +1 b/c we're including the onset time in prediction\n",
    "                patient_prefix = deepcopy(patient)\n",
    "                #no cheating!\n",
    "                del patient_prefix['column_onset']\n",
    "                patient_prefix['measurements'] = patient['measurements'][:i+1,:]\n",
    "                \n",
    "                if trigger_alert(patient_prefix, k) and True not in alarm_deque:\n",
    "                    alarm_deque.append(True)\n",
    "                    sepsis_detected = True\n",
    "                    num_alerts += 1\n",
    "                    if patient['column_onset'] - k + 1 <= i: #+1 b/c we include the onset time in prediction\n",
    "                        num_positive_alerts += 1\n",
    "                else:\n",
    "                    alarm_deque.append(False)\n",
    "            \n",
    "            num_septic += 1                        \n",
    "            num_detected_septic += int(sepsis_detected)\n",
    "    \n",
    "    #return sensitivity, PPV    \n",
    "    return float(num_detected_septic)/num_septic, float(num_positive_alerts)/num_alerts, [num_detected_septic, num_septic, num_positive_alerts, num_alerts]"
   ]
  },
  {
   "cell_type": "markdown",
   "metadata": {},
   "source": [
    "# Load\n",
    "This section processes and imputes the original dataset."
   ]
  },
  {
   "cell_type": "code",
   "execution_count": null,
   "metadata": {},
   "outputs": [],
   "source": [
    "from mimic_loader import mimic_interpolated, mimic_carryforward"
   ]
  },
  {
   "cell_type": "code",
   "execution_count": null,
   "metadata": {},
   "outputs": [],
   "source": [
    "from sepsis_predictor import sepsis_predictor"
   ]
  },
  {
   "cell_type": "markdown",
   "metadata": {},
   "source": [
    "# Test"
   ]
  },
  {
   "cell_type": "code",
   "execution_count": null,
   "metadata": {},
   "outputs": [],
   "source": [
    "#Split data\n",
    "training_keys = np.random.choice(mimic_interpolated.keys(), int(TRAINING_SIZE*len(mimic_interpolated.keys())), False)\n",
    "testing_keys = list(set(mimic_interpolated.keys()).difference(training_keys))\n",
    "\n",
    "#Use carryforward imputation for testing\n",
    "training_patients = {k: mimic_interpolated[k] for k in training_keys}\n",
    "testing_patients =  {k: mimic_carryforward[k] for k in testing_keys}\n",
    "\n",
    "#Train\n",
    "print(\"Training...\")\n",
    "predictor = sepsis_predictor(lookback = 5)\n",
    "predictor.train(training_patients, percent_septic = .001)\n",
    "print(\"done.\")"
   ]
  },
  {
   "cell_type": "code",
   "execution_count": null,
   "metadata": {},
   "outputs": [],
   "source": [
    "def trigger_alert(patient, k):\n",
    "    return predictor.predict(patient)\n",
    "\n",
    "print(\"Testing...\")\n",
    "sensitivity, PPV, raw = score(trigger_alert, testing_patients, 4)\n",
    "print(\"Sensitivity:\",perc(sensitivity))\n",
    "print(\"        PPV:\",perc(PPV))\n",
    "print(\"raw:\")\n",
    "print(raw)\n",
    "\n",
    "import os\n",
    "os.system(\"printf '\\a'\")"
   ]
  },
  {
   "cell_type": "markdown",
   "metadata": {},
   "source": [
    "Balanced at 0.001%:\n",
    "```\n",
    "Sensitivity: 27.66%\n",
    "        PPV: 91.50%\n",
    "raw:\n",
    "[226, 817, 226, 247]\n",
    "```\n",
    "\n",
    "Balanced at 0.05%:\n",
    "```\n",
    "Sensitivity: 32.56%\n",
    "        PPV: 60.04%\n",
    "raw:\n",
    "[293, 900, 293, 488]```\n",
    "\n",
    "Balanced at 0.01%:\n",
    "```\n",
    "Sensitivity: 39.14%\n",
    "        PPV: 35.82%\n",
    "raw:\n",
    "[326, 833, 326, 910]```\n",
    "\n",
    "Balanced at 0.5%:\n",
    "```\n",
    "Sensitivity: 73.65%\n",
    "        PPV: 8.56%\n",
    "raw:\n",
    "[640, 869, 640, 7478]```"
   ]
  },
  {
   "cell_type": "code",
   "execution_count": null,
   "metadata": {},
   "outputs": [],
   "source": []
  }
 ],
 "metadata": {
  "kernelspec": {
   "display_name": "Python 2",
   "language": "python",
   "name": "python2"
  },
  "language_info": {
   "codemirror_mode": {
    "name": "ipython",
    "version": 2
   },
   "file_extension": ".py",
   "mimetype": "text/x-python",
   "name": "python",
   "nbconvert_exporter": "python",
   "pygments_lexer": "ipython2"
  }
 },
 "nbformat": 4,
 "nbformat_minor": 2
}
